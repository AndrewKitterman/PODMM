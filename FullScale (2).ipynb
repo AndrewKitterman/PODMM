{
 "cells": [
  {
   "cell_type": "code",
   "execution_count": 1,
   "id": "dbb227d9",
   "metadata": {},
   "outputs": [],
   "source": [
    "import numpy as np\n",
    "from numpy import linalg\n",
    "from scipy.optimize import minimize\n",
    "from scipy.optimize import least_squares\n",
    "import sklearn\n",
    "from sklearn.decomposition import KernelPCA\n",
    "import time\n",
    "import numpy as np\n",
    "import matplotlib as mpl\n",
    "import matplotlib.pyplot as plt\n",
    "%matplotlib inline\n",
    "import scipy.sparse as sparse\n",
    "import scipy.sparse.linalg as linalg\n",
    "from numpy.random import multivariate_normal"
   ]
  },
  {
   "cell_type": "code",
   "execution_count": 88,
   "id": "264e6780",
   "metadata": {},
   "outputs": [],
   "source": [
    "def PODMM_Train(f,g,M):\n",
    "    f1 = np.shape(f)[0]\n",
    "    f2 = np.shape(f)[1]\n",
    "    fvals = []\n",
    "    gvals = []\n",
    "    easymeans1 = np.mean(f,axis=1)\n",
    "    easymeans2 = np.mean(g,axis=1)\n",
    "    easymeans1 = easymeans1.reshape(f1,1)\n",
    "    easymeans2 = easymeans2.reshape(np.shape(g)[0],1)\n",
    "    for i in range(np.shape(f)[0]):\n",
    "        f[:][i] = f[:][i] - easymeans1[i]\n",
    "    for i in range(np.shape(g)[0]):\n",
    "        g[:][i] = g[:][i] - easymeans2[i]\n",
    "    W = np.concatenate((f,g))\n",
    "    RSV_computed = []\n",
    "    U,W_svd,V = np.linalg.svd(W,compute_uv=True)\n",
    "    for i in range(M):\n",
    "        x = V[:,i]\n",
    "        RSV_computed.append(np.dot(W,x))\n",
    "    RSV_computed = np.array(RSV_computed).T\n",
    "    for i in range(M):\n",
    "        fvals.append(RSV_computed[:f1,i])\n",
    "        gvals.append(RSV_computed[f1:,i])\n",
    "    fvals,gvals = np.array(fvals),np.array(gvals)\n",
    "    return fvals.T,gvals.T,easymeans1,easymeans2"
   ]
  },
  {
   "cell_type": "code",
   "execution_count": 89,
   "id": "28eb4317",
   "metadata": {},
   "outputs": [],
   "source": [
    "def PODMM_Train_KPCA(f,g,M,ker):\n",
    "    f1 = np.shape(f)[0]\n",
    "    f2 = np.shape(f)[1]\n",
    "    fvals = []\n",
    "    gvals = []\n",
    "    easymeans1 = np.mean(f,axis=1)\n",
    "    easymeans2 = np.mean(g,axis=1)\n",
    "    easymeans1 = easymeans1.reshape(f1,1)\n",
    "    easymeans2 = easymeans2.reshape(np.shape(g)[0],1)\n",
    "    for i in range(np.shape(f)[0]):\n",
    "        f[:][i] = f[:][i] - easymeans1[i]\n",
    "    for i in range(np.shape(g)[0]):\n",
    "        g[:][i] = g[:][i] - easymeans2[i]\n",
    "    W = np.concatenate((f,g))\n",
    "    components = KernelPCA(n_components=M,kernel=ker)\n",
    "    V = components.fit_transform(W)\n",
    "    for i in range(M):\n",
    "        fvals.append(V[:f1,i])\n",
    "        gvals.append(V[f1:,i])\n",
    "    fvals,gvals = np.array(fvals),np.array(gvals)\n",
    "    return fvals.T,gvals.T,easymeans1,easymeans2"
   ]
  },
  {
   "cell_type": "code",
   "execution_count": 90,
   "id": "781abbef",
   "metadata": {},
   "outputs": [],
   "source": [
    "def PODMM_Predict(g_test,zeta_f,zeta_g,f_bar,g_bar,M):\n",
    "    alpha_PODMM = []\n",
    "    g_test = g_test.reshape(-1,1)\n",
    "    objective_func = lambda y:(g_test-(g_bar + np.dot(zeta_g,y.T).reshape(-1,1))).flatten()\n",
    "    y0 = np.random.random(M)\n",
    "    gam = least_squares(objective_func,y0)\n",
    "    alph = gam.x\n",
    "    return f_bar + np.dot(zeta_f,alph.T).reshape(-1,1)"
   ]
  },
  {
   "cell_type": "code",
   "execution_count": 91,
   "id": "6441f1e7",
   "metadata": {},
   "outputs": [],
   "source": [
    "def ADRSource(Lx, Nx, Source, omega, v, kappa):\n",
    "    \"\"\"\n",
    "    Solve the advection-diffusion-reaction equation\n",
    "    input:\n",
    "    Lx: float, the right end of x\n",
    "    Nx: int, nunber of x\n",
    "    Source: 1d array of size Nx\n",
    "    omega: 1d array of size Nx\n",
    "    v: 1d array of size Nx+1\n",
    "    kappa: 1d array of size Nx\n",
    "    return:\n",
    "    Solution: 1d array of size Nx\n",
    "    Q: float, quantiy of interest\n",
    "    \"\"\"\n",
    "    Source = np.full((Nx),Source)\n",
    "    omega = np.full((Nx),omega)\n",
    "    v = np.full((Nx),v)\n",
    "    kappa = np.full((Nx),kappa)\n",
    "    A = sparse.dia_matrix((Nx,Nx))   \n",
    "    dx = Lx/(Nx-1)\n",
    "    i2dx2 = 1.0/(dx*dx)\n",
    "    #fill diagonal of A\n",
    "    A.setdiag(2*i2dx2*omega + np.sign(v)*v/dx + kappa)\n",
    "    #fill off diagonals of A\n",
    "    A.setdiag(-i2dx2*omega[1:Nx] + 0.5*(1-np.sign(v[1:Nx]))*v[1:Nx]/dx,1)\n",
    "    A.setdiag(-i2dx2*omega[0:(Nx-1)] - 0.5*(np.sign(v[0:(Nx-1)])+1)*v[0:(Nx-1)]/dx,-1)\n",
    "    #solve A x = Source\n",
    "    Solution = linalg.spsolve(A,Source)\n",
    "    # Trapezoid rule\n",
    "    Q = np.sum(Solution[1:-1]*kappa[1:-1]*dx) + \\\n",
    "        Solution[0]*kappa[0]*dx/2 + Solution[-1]*kappa[-1]*dx/2\n",
    "    return Solution, Q"
   ]
  },
  {
   "cell_type": "code",
   "execution_count": 92,
   "id": "c9befe5d",
   "metadata": {},
   "outputs": [],
   "source": [
    "def lazy(mean,std):\n",
    "    A = [[1,-1],[1,1]]\n",
    "    e1 = np.sqrt(12)*std\n",
    "    e2 = 2*mean\n",
    "    b = [e1,e2]\n",
    "    return np.linalg.solve(A,b)"
   ]
  },
  {
   "cell_type": "code",
   "execution_count": 93,
   "id": "eef667f5",
   "metadata": {},
   "outputs": [],
   "source": [
    "v_a_b = lazy(10,1)\n",
    "omega_a_b = lazy(20,2)\n",
    "k_l_a_b = lazy(2,.2)\n",
    "k_h_a_b = lazy(.1,.01)\n",
    "q_a_b = lazy(1,.1)"
   ]
  },
  {
   "cell_type": "code",
   "execution_count": 94,
   "id": "151f6b2a",
   "metadata": {},
   "outputs": [],
   "source": [
    "v_sample = np.random.uniform(v_a_b[0],v_a_b[1],200)\n",
    "omega_sample = np.random.uniform(omega_a_b[0],omega_a_b[1],200)\n",
    "k_l_sample = np.random.uniform(k_l_a_b[0],k_l_a_b[1],200)\n",
    "k_h_sample = np.random.uniform(k_h_a_b[0],k_h_a_b[1],200)\n",
    "q_sample = np.random.uniform(q_a_b[0],q_a_b[1],200)\n",
    "x = np.linspace(0,1,50)\n",
    "y = np.linspace(0,1,2000)"
   ]
  },
  {
   "cell_type": "code",
   "execution_count": 95,
   "id": "a9e40778",
   "metadata": {
    "scrolled": true
   },
   "outputs": [
    {
     "name": "stderr",
     "output_type": "stream",
     "text": [
      "C:\\Users\\Budde\\anaconda3\\lib\\site-packages\\scipy\\sparse\\linalg\\_dsolve\\linsolve.py:168: SparseEfficiencyWarning: spsolve requires A be CSC or CSR matrix format\n",
      "  warn('spsolve requires A be CSC or CSR matrix format',\n"
     ]
    },
    {
     "name": "stdout",
     "output_type": "stream",
     "text": [
      "(2000, 200)\n",
      "(50, 200)\n"
     ]
    }
   ],
   "source": [
    "G_soln = []\n",
    "for i in range(200):\n",
    "    G_soln.append(ADRSource(1,50,q_sample[i]*x*(10-x),omega_sample[i],v_sample[i],k_l_sample[i])[0])\n",
    "G_soln = np.array(G_soln)\n",
    "F_soln = []\n",
    "for i in range(200):\n",
    "    F_soln.append(ADRSource(1,2000,q_sample[i]*y*(10-y),omega_sample[i],v_sample[i],k_l_sample[i])[0])\n",
    "F_soln = np.array(F_soln)\n",
    "print(np.shape(F_soln.T))\n",
    "print(np.shape(G_soln.T))"
   ]
  },
  {
   "cell_type": "code",
   "execution_count": 42,
   "id": "e865152e",
   "metadata": {},
   "outputs": [
    {
     "data": {
      "text/plain": [
       "(2000,)"
      ]
     },
     "execution_count": 42,
     "metadata": {},
     "output_type": "execute_result"
    }
   ],
   "source": [
    "np.shape(F_soln[1])"
   ]
  },
  {
   "cell_type": "code",
   "execution_count": 96,
   "id": "fd81be64",
   "metadata": {},
   "outputs": [],
   "source": [
    "f_POD,g_POD,f_means,g_means=PODMM_Train(F_soln.T,G_soln.T,20)"
   ]
  },
  {
   "cell_type": "code",
   "execution_count": 97,
   "id": "0f176447",
   "metadata": {},
   "outputs": [],
   "source": [
    "v_test = np.random.uniform(v_a_b[0],v_a_b[1],1)\n",
    "omega_test = np.random.uniform(omega_a_b[0],omega_a_b[1],1)\n",
    "k_l_test = np.random.uniform(k_l_a_b[0],k_l_a_b[1],1)\n",
    "k_h_test = np.random.uniform(k_h_a_b[0],k_h_a_b[1],1)\n",
    "q_test = np.random.uniform(q_a_b[0],q_a_b[1],1)\n"
   ]
  },
  {
   "cell_type": "code",
   "execution_count": 98,
   "id": "7c0be7b7",
   "metadata": {},
   "outputs": [],
   "source": [
    "g_test = ADRSource(1,50,q_test*x*(10-x),omega_test,v_test,k_l_test)[0]\n",
    "f_test = ADRSource(1,2000,q_test*y*(10-y),omega_test,v_test,k_l_test)[0]"
   ]
  },
  {
   "cell_type": "code",
   "execution_count": 99,
   "id": "bc740933",
   "metadata": {},
   "outputs": [
    {
     "data": {
      "text/plain": [
       "array([[3.82002642e-05],\n",
       "       [7.64134119e-05],\n",
       "       [1.14639376e-04],\n",
       "       ...,\n",
       "       [2.89537243e-04],\n",
       "       [1.93188761e-04],\n",
       "       [9.66763852e-05]])"
      ]
     },
     "execution_count": 99,
     "metadata": {},
     "output_type": "execute_result"
    }
   ],
   "source": [
    "pred = PODMM_Predict(g_test,f_POD,g_POD,f_means,g_means,20)\n",
    "pred"
   ]
  },
  {
   "cell_type": "code",
   "execution_count": 100,
   "id": "ceb50c85",
   "metadata": {},
   "outputs": [
    {
     "name": "stdout",
     "output_type": "stream",
     "text": [
      "21.022342943802013\n"
     ]
    }
   ],
   "source": [
    "print(np.linalg.norm(pred - f_test,ord=2))"
   ]
  },
  {
   "cell_type": "code",
   "execution_count": 85,
   "id": "278b736d",
   "metadata": {},
   "outputs": [],
   "source": [
    "f_kPOD,g_kPOD,fk_means,gk_means = PODMM_Train_KPCA(F_soln.T,G_soln.T,30,'cosine')"
   ]
  },
  {
   "cell_type": "code",
   "execution_count": 86,
   "id": "e3d6e18a",
   "metadata": {},
   "outputs": [],
   "source": [
    "pred2 = PODMM_Predict(g_test,f_kPOD,g_kPOD,fk_means,gk_means,30)"
   ]
  },
  {
   "cell_type": "code",
   "execution_count": 87,
   "id": "7e8de4f3",
   "metadata": {},
   "outputs": [
    {
     "name": "stdout",
     "output_type": "stream",
     "text": [
      "18.299077376062904\n"
     ]
    }
   ],
   "source": [
    "print(np.linalg.norm(pred2-f_test,ord=2))"
   ]
  },
  {
   "cell_type": "code",
   "execution_count": 80,
   "id": "bda5c7e1",
   "metadata": {},
   "outputs": [
    {
     "data": {
      "image/png": "[encoded data removed]",
      "text/plain": [
       "<Figure size 640x480 with 1 Axes>"
      ]
     },
     "metadata": {},
     "output_type": "display_data"
    }
   ],
   "source": [
    "%matplotlib inline\n",
    "from matplotlib import pyplot as plt\n",
    "#Do this later\n",
    "plt.plot(y,pred2,label='pred')\n",
    "plt.plot(y,f_test,label='test')\n",
    "plt.legend()\n",
    "plt.show()\n"
   ]
  },
  {
   "cell_type": "code",
   "execution_count": 35,
   "id": "56a56b9c",
   "metadata": {},
   "outputs": [
    {
     "name": "stdout",
     "output_type": "stream",
     "text": [
      "[3.43598632e-05] 3.435969647378679e-05\n"
     ]
    }
   ],
   "source": [
    "print(pred[0],f_test[0])"
   ]
  },
  {
   "cell_type": "code",
   "execution_count": null,
   "id": "72a92e4f",
   "metadata": {},
   "outputs": [],
   "source": []
  }
 ],
 "metadata": {
  "kernelspec": {
   "display_name": "Python 3 (ipykernel)",
   "language": "python",
   "name": "python3"
  },
  "language_info": {
   "codemirror_mode": {
    "name": "ipython",
    "version": 3
   },
   "file_extension": ".py",
   "mimetype": "text/x-python",
   "name": "python",
   "nbconvert_exporter": "python",
   "pygments_lexer": "ipython3",
   "version": "3.9.13"
  }
 },
 "nbformat": 4,
 "nbformat_minor": 5
}
